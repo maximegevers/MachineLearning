{
 "cells": [
  {
   "cell_type": "code",
   "execution_count": 41,
   "metadata": {},
   "outputs": [
    {
     "name": "stdout",
     "output_type": "stream",
     "text": [
      "Populating the interactive namespace from numpy and matplotlib\n"
     ]
    }
   ],
   "source": [
    "%pylab inline \n",
    "import numpy as np\n",
    "\n",
    "# from assignment linearRegression1\n",
    "m = 100;\n",
    "a = 0.5\n",
    "b = 2\n",
    "x = linspace(0,10,m)\n",
    "y = a * x + b + 0.3 * random.randn(m)"
   ]
  },
  {
   "cell_type": "markdown",
   "metadata": {},
   "source": [
    "## Univariate Linear Regression"
   ]
  },
  {
   "cell_type": "markdown",
   "metadata": {},
   "source": [
    "In the previous assignment you implemented the cost function and one step of gradient descent. Now it's time to put your code together and implement to full gradient descent algorithm. Please reuse the implementations of your functions from the previous assignment, but make sure they are correct. \n",
    "\n",
    "Make sure to comment your code!"
   ]
  },
  {
   "cell_type": "code",
   "execution_count": 42,
   "metadata": {},
   "outputs": [],
   "source": [
    "#Make a prediction function h\n",
    "def predict(x,theta0,theta1):\n",
    "    x_predict = theta0+(theta1*x) # as for linear regression, \n",
    "    return x_predict"
   ]
  },
  {
   "cell_type": "code",
   "execution_count": 43,
   "metadata": {},
   "outputs": [],
   "source": [
    "#Use the output of that function to compute the cost function J:\n",
    "def cost(x_predict,y):\n",
    "    x = np.transpose(x_predict)\n",
    "    y = np.transpose(y)\n",
    "    result = (np.sum(x_predict-y)**2)/(2*len(x))\n",
    "    return result"
   ]
  },
  {
   "cell_type": "code",
   "execution_count": 53,
   "metadata": {},
   "outputs": [],
   "source": [
    "#Create a function that returns the gradient values, given h (x_predict), y and x:\n",
    "def gradDescentStep(x_predict,y, x):\n",
    "    d_theta0= sum(x_predict-y)/size(x)\n",
    "    d_theta1= (x_predict-y).dot(x)/size(x)\n",
    "    return theta0, theta1"
   ]
  },
  {
   "cell_type": "code",
   "execution_count": 54,
   "metadata": {},
   "outputs": [
    {
     "data": {
      "image/png": "[encoded data removed]",
      "text/plain": [
       "<matplotlib.figure.Figure at 0x114b150f0>"
      ]
     },
     "metadata": {},
     "output_type": "display_data"
    }
   ],
   "source": [
    "# Repeat the gradient descent step untill it converges.\n",
    "# These are some default parameters, see how playing with them affects the behavior\n",
    "alpha = 0.1\n",
    "theta0 = 0\n",
    "theta1 = 1\n",
    "iterations = 10\n",
    "\n",
    "#Fill in the stopcondition yourself\n",
    "stopcondition = 1\n",
    "i = 0\n",
    "cost = 10\n",
    "\n",
    "#Try to save the output of the cost function at each iteration and plot it at the end\n",
    "while (i < iterations) and (cost > stopcondition):\n",
    "    i = i + 1\n",
    "    x_predict = theta0+(theta1*x)\n",
    "    x = np.transpose(x_predict)\n",
    "    y = np.transpose(y)\n",
    "    cost = (np.sum(x_predict-y)**2)/(2*len(x))\n",
    "    (dtheta0,dtheta1) = gradDescentStep(x_predict,y,x)\n",
    "    theta0 = theta0-alpha*dtheta0\n",
    "    theta1 = theta1-alpha*dtheta1\n",
    "\n",
    "plt.plot(x,predict(x,theta0,theta1))\n",
    "plt.plot(x,y,'o')\n",
    "plt.show()"
   ]
  },
  {
   "cell_type": "markdown",
   "metadata": {},
   "source": [
    "## Analysis\n",
    "\n",
    "Write a short analysis about the amount of iterations necessary to obtain a good result, the influence of the learning rate and the trend of the cost function. "
   ]
  },
  {
   "cell_type": "markdown",
   "metadata": {},
   "source": [
    "# Bonus Problem: Implement Least Squares with closed form solution\n",
    "\n",
    "For the Least Squares method there is also a closed-form solution.\n",
    "\n",
    "$\\theta_1$ can be found by:\n",
    "$$ \\boldsymbol{\\hat\\theta_1} =( X ^TX)^{-1}X^{T}\\boldsymbol y $$\n",
    "\n",
    "You can leave $\\theta_0$ to be 0. Make a plot with your data as dots and your prediction as a line."
   ]
  },
  {
   "cell_type": "code",
   "execution_count": null,
   "metadata": {
    "collapsed": true
   },
   "outputs": [],
   "source": []
  }
 ],
 "metadata": {
  "kernelspec": {
   "display_name": "Python 3",
   "language": "python",
   "name": "python3"
  },
  "language_info": {
   "codemirror_mode": {
    "name": "ipython",
    "version": 3
   },
   "file_extension": ".py",
   "mimetype": "text/x-python",
   "name": "python",
   "nbconvert_exporter": "python",
   "pygments_lexer": "ipython3",
   "version": "3.6.3"
  }
 },
 "nbformat": 4,
 "nbformat_minor": 1
}
