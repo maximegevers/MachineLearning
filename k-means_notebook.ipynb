{
 "cells": [
  {
   "cell_type": "markdown",
   "metadata": {},
   "source": [
    "# AUC ML LabExercise - k-means\n",
    "### Ungraded exercise, deadline Friday, November 24, 23:59.\n",
    "\n",
    "In this ungraded assignment you will cluster hand-written digits using k-means. This is an unsupervised method and will therefore differ a bit from the previous assignments. \n",
    "You will also have to analyse the behavior of K-means for different parameter settings and initializations.\n",
    "\n",
    "The assignment follows Andrew Ng's explanation of K-means and (re)watching his videos could be useful.\n",
    "\n",
    "Publish your notebook (ipynb file) to your repository on Github. If you have any questions, please email me and don't forget to commit the most recent version of you assignment on Github so that I can see your code.\n",
    "\n",
    "Note: all code should be clear, add comments where necessary (especially if your code is not straightforward). You are free to discuss the assignment among each other, but stick to sharing ideas, not code.\n",
    "\n"
   ]
  },
  {
   "cell_type": "code",
   "execution_count": 23,
   "metadata": {},
   "outputs": [
    {
     "name": "stdout",
     "output_type": "stream",
     "text": [
      "Populating the interactive namespace from numpy and matplotlib\n"
     ]
    },
    {
     "name": "stderr",
     "output_type": "stream",
     "text": [
      "/anaconda3/lib/python3.6/site-packages/IPython/core/magics/pylab.py:160: UserWarning: pylab import has clobbered these variables: ['f']\n",
      "`%matplotlib` prevents importing * from pylab and numpy\n",
      "  \"\\n`%matplotlib` prevents importing * from pylab and numpy\"\n"
     ]
    }
   ],
   "source": [
    "%pylab inline\n",
    "import numpy as np\n",
    "import sys\n",
    "from scipy.misc import imread\n",
    "from scipy.linalg import norm\n",
    "from scipy import sum, average\n",
    "import scipy"
   ]
  },
  {
   "cell_type": "markdown",
   "metadata": {},
   "source": [
    "The dataset is the same as with logistic regression. However, you don't need to use the class labels as K-means is an unsupervised method."
   ]
  },
  {
   "cell_type": "markdown",
   "metadata": {},
   "source": [
    "## Visualize functions\n",
    "\n",
    "In order to make it more visible what K-means is learning, we provide two visualization functions. The first function takes the assignment of each digit to each cluster and shows what the digits of the cluster looks like. If your algorithm works well then the digits should look alike!\n",
    "\n",
    "The second function visualizes the actual cluster centroids. It is expected that you see something that resembles the original digit, but don't be surprised if one of the results is a combination, e.g. a zero and eight at the same time.\n",
    "\n",
    "K-means is a very simple algorithm and is not likely to get an optimal result, therefore some of the centroids will be just noise. "
   ]
  },
  {
   "cell_type": "code",
   "execution_count": 24,
   "metadata": {
    "collapsed": true
   },
   "outputs": [],
   "source": [
    "#With below code you can visualize the data clusters\n",
    "#The input is a vector c (with all the datapoints assigned to a cluster)\n",
    "#this function will show a bunch of numbers assigned to that cluster.\n",
    "#It will skip the cluster if there are not enough images in it.\n",
    "\n",
    "#You can use this code after you have finished implementing everything!\n",
    "def visualize(best_c):\n",
    "    for i in range(10):\n",
    "        print(\"There are \", sum(c == i), \" elements in cluster \", i)\n",
    "    \n",
    "    for cluster in range(10):\n",
    "        #Create two rows with numbers\n",
    "        filtered = digits.images[c == cluster,:,:]\n",
    "\n",
    "        if filtered.shape[0] < 5:\n",
    "            print(\"not enough items in cluster \", cluster)\n",
    "            continue\n",
    "\n",
    "        rows = floor(filtered.shape[0]/10)\n",
    "        image_rows = []\n",
    "\n",
    "        for i in range(min(5,int(rows))):\n",
    "            image_row = hstack(filtered[i*10:(i+1)*10,:,:])\n",
    "            image_rows.append(image_row)\n",
    "\n",
    "        gray()\n",
    "        axis('off')\n",
    "\n",
    "        #Show both rows at the same time\n",
    "        imshow(vstack(image_rows))\n",
    "        show()\n",
    "\n",
    "        print(\"The cluster shown above is: \", cluster)"
   ]
  },
  {
   "cell_type": "code",
   "execution_count": 25,
   "metadata": {
    "collapsed": true
   },
   "outputs": [],
   "source": [
    "# This function visualizes the centroids. \n",
    "# It takes as input the matrix mu with the cluster centroids and shows an image.\n",
    "\n",
    "#You can use this code after you have finished implementing everything!\n",
    "def visualize_centroids(best_mu):\n",
    "    mu = best_mu.T.reshape(10,8,8)\n",
    "    \n",
    "    #Create two rows with numbers\n",
    "    firstrow = hstack(mu[:5,:,:])\n",
    "    secondrow = hstack(mu[5:,:,:])\n",
    "\n",
    "    gray()\n",
    "    axis('off')\n",
    "\n",
    "    #Show both rows at the same time\n",
    "    imshow(vstack((firstrow,secondrow)))"
   ]
  },
  {
   "cell_type": "markdown",
   "metadata": {},
   "source": [
    "## The implementation\n",
    "\n",
    "You have to implement the next three functions in order to create a correct implementation of k-means. The body of the loop is implemented for your, study it first to understand which parameters you are passing to your functions and what your functions should return. \n",
    "Please follow Andrew Ng's description and the instructions that come with the functions closely. \n",
    "\n",
    "\n"
   ]
  },
  {
   "cell_type": "code",
   "execution_count": 26,
   "metadata": {
    "collapsed": true
   },
   "outputs": [],
   "source": [
    "#First write a function that takes as input 1 image x and all the cluster centroids mu. \n",
    "#It returns a number that is the closest centroid (index of the closest centroid)\n",
    "def compute_centroid(x,mu):\n",
    "    x = numpy.reshape(x, (64, 1)) # reshape the image to 64 rows and 1 column, 64x1\n",
    "    euclidian_distance = list()\n",
    "    for element in range(9): # because k = 10, there have to be 10 clusters to cluster images 0 till 9 \n",
    "        euclidian_distance.append(scipy.spatial.distance.euclidean(x, mu[:,element])) # \n",
    "        # above is the euclidian distance between x (= column vector) and all different columns in mu\n",
    "    c = numpy.argmin(euclidian_distance) # index with the minimum value of the list euclidian distance\n",
    "    return c\n",
    "\n",
    "    #mu will be of size 64 by k\n",
    "    #x will be of size 64 (need to reshape to 64 by 1!)\n",
    "    #You can subtract x from mu, and numpy will \"broadcast\" over the columns, result is 64 by k\n",
    "    #Then you can take the norm over the columns (give option axis = 0)\n",
    "    #return the index of the closest\n",
    "\n",
    "\n"
   ]
  },
  {
   "cell_type": "code",
   "execution_count": 27,
   "metadata": {
    "collapsed": true
   },
   "outputs": [],
   "source": [
    "# Second write a function that returns an updated mu matrix for a specific cluster number \n",
    "# It takes as input:\n",
    "# - a cluster number (for which we want to update the centriod)\n",
    "# - all cluster centroids mu\n",
    "# - all the datapoints assigned to that cluster\n",
    "# It returns an updated mu matrix for that cluster number\n",
    "\n",
    "def update_centroid(centroid, mu, X_c): \n",
    "    #you have to average over the columns in X_c and change only 1 specific column in mu\n",
    "    X = numpy.matrix(X_c)\n",
    "    mn = X.mean() # calculates the mean over all the columns in X_c\n",
    "    mu[:,centroid] = (mu[:,centroid])/(mn) # divides every element with the mean in the column centroid\n",
    "    return mu"
   ]
  },
  {
   "cell_type": "code",
   "execution_count": 34,
   "metadata": {
    "collapsed": true
   },
   "outputs": [],
   "source": [
    "#Now write the cost function. This will be exactly the same as the compute_centroid\n",
    "#However it will return the actual minimum and not the index of the centroid\n",
    "def cost_function(x,mu):\n",
    "    x = numpy.reshape(x, (64, 1)) # reshape the image to 64 rows and 1 column, 64x1\n",
    "    euclidian_distance = list()\n",
    "    for element in range(9): # because k = 10, there have to be 10 clusters to cluster images 0 till 9 \n",
    "        euclidian_distance.append(scipy.spatial.distance.euclidean(x, mu[:,element])) # \n",
    "        # above is the euclidian distance between x (= column vector) and all different columns in mu\n",
    "    cost = min(euclidian_distance) # the minimum value of the list euclidian distance\n",
    "    return cost"
   ]
  },
  {
   "cell_type": "code",
   "execution_count": 37,
   "metadata": {},
   "outputs": [
    {
     "ename": "NameError",
     "evalue": "name 'cost' is not defined",
     "output_type": "error",
     "traceback": [
      "\u001b[0;31m---------------------------------------------------------------------------\u001b[0m",
      "\u001b[0;31mNameError\u001b[0m                                 Traceback (most recent call last)",
      "\u001b[0;32m<ipython-input-37-f8b71d815e28>\u001b[0m in \u001b[0;36m<module>\u001b[0;34m()\u001b[0m\n\u001b[1;32m     39\u001b[0m         \u001b[0;32mfor\u001b[0m \u001b[0mi\u001b[0m \u001b[0;32min\u001b[0m \u001b[0mrange\u001b[0m\u001b[0;34m(\u001b[0m\u001b[0mx\u001b[0m\u001b[0;34m.\u001b[0m\u001b[0mshape\u001b[0m\u001b[0;34m[\u001b[0m\u001b[0;36m0\u001b[0m\u001b[0;34m]\u001b[0m\u001b[0;34m)\u001b[0m\u001b[0;34m:\u001b[0m\u001b[0;34m\u001b[0m\u001b[0m\n\u001b[1;32m     40\u001b[0m             \u001b[0mc\u001b[0m\u001b[0;34m[\u001b[0m\u001b[0mi\u001b[0m\u001b[0;34m]\u001b[0m \u001b[0;34m=\u001b[0m \u001b[0mcompute_centroid\u001b[0m\u001b[0;34m(\u001b[0m\u001b[0mx\u001b[0m\u001b[0;34m[\u001b[0m\u001b[0mi\u001b[0m\u001b[0;34m,\u001b[0m\u001b[0;34m:\u001b[0m\u001b[0;34m]\u001b[0m\u001b[0;34m,\u001b[0m\u001b[0mmu\u001b[0m\u001b[0;34m)\u001b[0m\u001b[0;34m\u001b[0m\u001b[0m\n\u001b[0;32m---> 41\u001b[0;31m             \u001b[0mcost\u001b[0m \u001b[0;34m+=\u001b[0m \u001b[0mcost_function\u001b[0m\u001b[0;34m(\u001b[0m\u001b[0mx\u001b[0m\u001b[0;34m[\u001b[0m\u001b[0mi\u001b[0m\u001b[0;34m,\u001b[0m\u001b[0;34m:\u001b[0m\u001b[0;34m]\u001b[0m\u001b[0;34m,\u001b[0m\u001b[0mmu\u001b[0m\u001b[0;34m)\u001b[0m\u001b[0;34m\u001b[0m\u001b[0m\n\u001b[0m\u001b[1;32m     42\u001b[0m     \u001b[0;31m#only update if there is improvement\u001b[0m\u001b[0;34m\u001b[0m\u001b[0;34m\u001b[0m\u001b[0m\n\u001b[1;32m     43\u001b[0m     \u001b[0;32mif\u001b[0m \u001b[0mcost\u001b[0m \u001b[0;34m<\u001b[0m \u001b[0mbest_cost\u001b[0m\u001b[0;34m:\u001b[0m\u001b[0;34m\u001b[0m\u001b[0m\n",
      "\u001b[0;31mNameError\u001b[0m: name 'cost' is not defined"
     ]
    }
   ],
   "source": [
    "#The main loop implementig the k-means algortihm\n",
    "\n",
    "#get amount of examples and features\n",
    "n = x.shape[0]\n",
    "f = x.shape[1]\n",
    "\n",
    "#The amount of initializations (use high number to avoid local optima) and iterations \n",
    "initialisation_iterations = 5\n",
    "iterations = 15\n",
    "\n",
    "#define the amount of clusters k\n",
    "k = 10\n",
    "\n",
    "#The code below constists of three layers of loops:\n",
    "#The first loop is for different initialisations of mu\n",
    "#The second loop is for the amount of iterations of the k means algorithm\n",
    "#The third layer actually consists of two loops:\n",
    "    #Loop 1 updates the centroid of all the clusters\n",
    "    #Loop 2 assigns a new cluster to each datapoint\n",
    "\n",
    "    \n",
    "#initialize best_cost to 'inf' so no other number can be higher\n",
    "best_cost = float(\"inf\")\n",
    "\n",
    "for h in range(initialisation_iterations):\n",
    "    #mu is the centroid matrix, initialized by sampling from a uniform distribution (shape is f=64 by k=10!)\n",
    "    mu = random.uniform(0,16,(f,k))\n",
    "    \n",
    "    #c is the vector that assigns each digit to a centroid\n",
    "    #initialized with integers between 0 and k=10, the shape is n=1797 by nothing\n",
    "    c = random.randint(0,k,(n))\n",
    "\n",
    "    for j in range(iterations):\n",
    "        #update the centroid of all the clusters\n",
    "        for i in range(k):\n",
    "            X_c = x[where(c==i)]\n",
    "            mu = update_centroid(i,mu,X_c)\n",
    "        #assign a new cluster to each datapoint and update cost\n",
    "        for i in range(x.shape[0]):\n",
    "            c[i] = compute_centroid(x[i,:],mu)\n",
    "            cost += cost_function(x[i,:],mu)\n",
    "    #only update if there is improvement\n",
    "    if cost < best_cost:\n",
    "        best_mu = mu\n",
    "        best_cost = cost\n",
    "        best_c = c\n",
    "\n",
    "\n",
    "# Visualize\n",
    "visualize(best_c)\n",
    "\n",
    "\n",
    "print(\"10 Centroids of my clusters: \")\n",
    "visualize_centroids(best_mu)"
   ]
  },
  {
   "cell_type": "markdown",
   "metadata": {},
   "source": [
    "## Bonus\n",
    "\n",
    "There is a special \"trick\" you can do to make sure all clusters are used. You can do this by initializing the cluster centroids as the first ten digits. Luckily, the dataset x has as first 10 elements the first 10 digits.\n",
    "\n",
    "Take the code with the three loops, remove the outer loop since you already know the \"best\" initialization and use the below line of code to initialize mu.\n",
    "\n",
    "To show:\n",
    "- Visualize the resulting centroids (Do they still resemble the digits?)\n",
    "- Plot the cost over iterations and compare this to the original initialization\n",
    "\n"
   ]
  },
  {
   "cell_type": "code",
   "execution_count": null,
   "metadata": {
    "collapsed": true
   },
   "outputs": [],
   "source": [
    "#You should initialize mu as:\n",
    "mu = x[:10,:].T"
   ]
  },
  {
   "cell_type": "code",
   "execution_count": null,
   "metadata": {
    "collapsed": true
   },
   "outputs": [],
   "source": []
  },
  {
   "cell_type": "code",
   "execution_count": null,
   "metadata": {
    "collapsed": true
   },
   "outputs": [],
   "source": []
  },
  {
   "cell_type": "markdown",
   "metadata": {},
   "source": []
  }
 ],
 "metadata": {
  "kernelspec": {
   "display_name": "Python 3",
   "language": "python",
   "name": "python3"
  },
  "language_info": {
   "codemirror_mode": {
    "name": "ipython",
    "version": 3
   },
   "file_extension": ".py",
   "mimetype": "text/x-python",
   "name": "python",
   "nbconvert_exporter": "python",
   "pygments_lexer": "ipython3",
   "version": "3.6.3"
  }
 },
 "nbformat": 4,
 "nbformat_minor": 1
}
